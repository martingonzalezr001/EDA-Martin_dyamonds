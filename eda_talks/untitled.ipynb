{
 "cells": [
  {
   "cell_type": "markdown",
   "id": "c50c2142",
   "metadata": {},
   "source": [
    "# Data Distribution\n",
    "\n",
    "Statistical moments of a distribution:\n",
    "\n",
    "- Moments of location \n",
    "\n",
    "- Moments of variability\n",
    "\n",
    "- Moments of skewness\n",
    "\n",
    "- Moments of kurtosis\n",
    "\n",
    "---"
   ]
  },
  {
   "cell_type": "markdown",
   "id": "c74b57f8",
   "metadata": {},
   "source": [
    "### Libraries\n",
    "\n",
    "- [SciPy](https://docs.scipy.org/doc/scipy/reference/index.html#scipy-api)\n",
    "\n",
    "- [statsmodels](https://www.statsmodels.org/stable/api.html)\n",
    "\n",
    "- [wquantiles](https://pypi.org/project/wquantiles/)"
   ]
  },
  {
   "cell_type": "code",
   "execution_count": 1,
   "id": "8c1b7dbe",
   "metadata": {},
   "outputs": [],
   "source": [
    "# imports\n",
    "\n",
    "import pandas as pd\n",
    "import numpy as np\n",
    "from scipy.stats import trim_mean   # conda install scipy\n",
    "from statsmodels import robust      # conda install -c conda-forge statsmodels \n",
    "import wquantiles                   # pip install wquantiles\n",
    "\n",
    "import seaborn as sns\n",
    "import matplotlib.pylab as plt"
   ]
  },
  {
   "cell_type": "markdown",
   "id": "09247663",
   "metadata": {},
   "source": [
    "---\n",
    "\n",
    "### Exploring the Data Distribution\n",
    "\n",
    "So far we have used a single number to describe the location or variability of the data. Now we are going to explore how the data is distributed overall.\n",
    "\n",
    "- __Boxplot:__ Is a quick way to visualize the distribution of data (a.k.a.: box and whiskers plot).\n",
    "\n",
    "- __Frequency table:__ A tally of the count of numeric data values that fall into a set of intervals (bins).\n",
    "\n",
    "- __Histogram:__ A plot of the frequency table with the bins on the x-axis and the count (or proportion) on the y-axis.\n",
    "\n",
    "- __Density plot:__ A smoothed version the histogram.\n",
    "\n"
   ]
  },
  {
   "cell_type": "markdown",
   "id": "bfd5c1f0",
   "metadata": {},
   "source": [
    "---\n",
    "\n",
    "#### Equal-count distributions"
   ]
  },
  {
   "cell_type": "code",
   "execution_count": 2,
   "id": "fdd2fbd8",
   "metadata": {},
   "outputs": [
    {
     "ename": "FileNotFoundError",
     "evalue": "[Errno 2] No such file or directory: './datasets/state.csv'",
     "output_type": "error",
     "traceback": [
      "\u001b[1;31m---------------------------------------------------------------------------\u001b[0m",
      "\u001b[1;31mFileNotFoundError\u001b[0m                         Traceback (most recent call last)",
      "Cell \u001b[1;32mIn[2], line 1\u001b[0m\n\u001b[1;32m----> 1\u001b[0m state \u001b[38;5;241m=\u001b[39m \u001b[43mpd\u001b[49m\u001b[38;5;241;43m.\u001b[39;49m\u001b[43mread_csv\u001b[49m\u001b[43m(\u001b[49m\u001b[38;5;124;43m'\u001b[39;49m\u001b[38;5;124;43m./datasets/state.csv\u001b[39;49m\u001b[38;5;124;43m'\u001b[39;49m\u001b[43m)\u001b[49m\n\u001b[0;32m      2\u001b[0m state\u001b[38;5;241m.\u001b[39msort_values(by\u001b[38;5;241m=\u001b[39m\u001b[38;5;124m'\u001b[39m\u001b[38;5;124mMurder.Rate\u001b[39m\u001b[38;5;124m'\u001b[39m)\u001b[38;5;241m.\u001b[39mreset_index(drop\u001b[38;5;241m=\u001b[39m\u001b[38;5;28;01mTrue\u001b[39;00m)\n",
      "File \u001b[1;32m~\\miniconda3\\envs\\m2\\lib\\site-packages\\pandas\\io\\parsers\\readers.py:1026\u001b[0m, in \u001b[0;36mread_csv\u001b[1;34m(filepath_or_buffer, sep, delimiter, header, names, index_col, usecols, dtype, engine, converters, true_values, false_values, skipinitialspace, skiprows, skipfooter, nrows, na_values, keep_default_na, na_filter, verbose, skip_blank_lines, parse_dates, infer_datetime_format, keep_date_col, date_parser, date_format, dayfirst, cache_dates, iterator, chunksize, compression, thousands, decimal, lineterminator, quotechar, quoting, doublequote, escapechar, comment, encoding, encoding_errors, dialect, on_bad_lines, delim_whitespace, low_memory, memory_map, float_precision, storage_options, dtype_backend)\u001b[0m\n\u001b[0;32m   1013\u001b[0m kwds_defaults \u001b[38;5;241m=\u001b[39m _refine_defaults_read(\n\u001b[0;32m   1014\u001b[0m     dialect,\n\u001b[0;32m   1015\u001b[0m     delimiter,\n\u001b[1;32m   (...)\u001b[0m\n\u001b[0;32m   1022\u001b[0m     dtype_backend\u001b[38;5;241m=\u001b[39mdtype_backend,\n\u001b[0;32m   1023\u001b[0m )\n\u001b[0;32m   1024\u001b[0m kwds\u001b[38;5;241m.\u001b[39mupdate(kwds_defaults)\n\u001b[1;32m-> 1026\u001b[0m \u001b[38;5;28;01mreturn\u001b[39;00m \u001b[43m_read\u001b[49m\u001b[43m(\u001b[49m\u001b[43mfilepath_or_buffer\u001b[49m\u001b[43m,\u001b[49m\u001b[43m \u001b[49m\u001b[43mkwds\u001b[49m\u001b[43m)\u001b[49m\n",
      "File \u001b[1;32m~\\miniconda3\\envs\\m2\\lib\\site-packages\\pandas\\io\\parsers\\readers.py:620\u001b[0m, in \u001b[0;36m_read\u001b[1;34m(filepath_or_buffer, kwds)\u001b[0m\n\u001b[0;32m    617\u001b[0m _validate_names(kwds\u001b[38;5;241m.\u001b[39mget(\u001b[38;5;124m\"\u001b[39m\u001b[38;5;124mnames\u001b[39m\u001b[38;5;124m\"\u001b[39m, \u001b[38;5;28;01mNone\u001b[39;00m))\n\u001b[0;32m    619\u001b[0m \u001b[38;5;66;03m# Create the parser.\u001b[39;00m\n\u001b[1;32m--> 620\u001b[0m parser \u001b[38;5;241m=\u001b[39m TextFileReader(filepath_or_buffer, \u001b[38;5;241m*\u001b[39m\u001b[38;5;241m*\u001b[39mkwds)\n\u001b[0;32m    622\u001b[0m \u001b[38;5;28;01mif\u001b[39;00m chunksize \u001b[38;5;129;01mor\u001b[39;00m iterator:\n\u001b[0;32m    623\u001b[0m     \u001b[38;5;28;01mreturn\u001b[39;00m parser\n",
      "File \u001b[1;32m~\\miniconda3\\envs\\m2\\lib\\site-packages\\pandas\\io\\parsers\\readers.py:1620\u001b[0m, in \u001b[0;36mTextFileReader.__init__\u001b[1;34m(self, f, engine, **kwds)\u001b[0m\n\u001b[0;32m   1617\u001b[0m     \u001b[38;5;28mself\u001b[39m\u001b[38;5;241m.\u001b[39moptions[\u001b[38;5;124m\"\u001b[39m\u001b[38;5;124mhas_index_names\u001b[39m\u001b[38;5;124m\"\u001b[39m] \u001b[38;5;241m=\u001b[39m kwds[\u001b[38;5;124m\"\u001b[39m\u001b[38;5;124mhas_index_names\u001b[39m\u001b[38;5;124m\"\u001b[39m]\n\u001b[0;32m   1619\u001b[0m \u001b[38;5;28mself\u001b[39m\u001b[38;5;241m.\u001b[39mhandles: IOHandles \u001b[38;5;241m|\u001b[39m \u001b[38;5;28;01mNone\u001b[39;00m \u001b[38;5;241m=\u001b[39m \u001b[38;5;28;01mNone\u001b[39;00m\n\u001b[1;32m-> 1620\u001b[0m \u001b[38;5;28mself\u001b[39m\u001b[38;5;241m.\u001b[39m_engine \u001b[38;5;241m=\u001b[39m \u001b[38;5;28;43mself\u001b[39;49m\u001b[38;5;241;43m.\u001b[39;49m\u001b[43m_make_engine\u001b[49m\u001b[43m(\u001b[49m\u001b[43mf\u001b[49m\u001b[43m,\u001b[49m\u001b[43m \u001b[49m\u001b[38;5;28;43mself\u001b[39;49m\u001b[38;5;241;43m.\u001b[39;49m\u001b[43mengine\u001b[49m\u001b[43m)\u001b[49m\n",
      "File \u001b[1;32m~\\miniconda3\\envs\\m2\\lib\\site-packages\\pandas\\io\\parsers\\readers.py:1880\u001b[0m, in \u001b[0;36mTextFileReader._make_engine\u001b[1;34m(self, f, engine)\u001b[0m\n\u001b[0;32m   1878\u001b[0m     \u001b[38;5;28;01mif\u001b[39;00m \u001b[38;5;124m\"\u001b[39m\u001b[38;5;124mb\u001b[39m\u001b[38;5;124m\"\u001b[39m \u001b[38;5;129;01mnot\u001b[39;00m \u001b[38;5;129;01min\u001b[39;00m mode:\n\u001b[0;32m   1879\u001b[0m         mode \u001b[38;5;241m+\u001b[39m\u001b[38;5;241m=\u001b[39m \u001b[38;5;124m\"\u001b[39m\u001b[38;5;124mb\u001b[39m\u001b[38;5;124m\"\u001b[39m\n\u001b[1;32m-> 1880\u001b[0m \u001b[38;5;28mself\u001b[39m\u001b[38;5;241m.\u001b[39mhandles \u001b[38;5;241m=\u001b[39m \u001b[43mget_handle\u001b[49m\u001b[43m(\u001b[49m\n\u001b[0;32m   1881\u001b[0m \u001b[43m    \u001b[49m\u001b[43mf\u001b[49m\u001b[43m,\u001b[49m\n\u001b[0;32m   1882\u001b[0m \u001b[43m    \u001b[49m\u001b[43mmode\u001b[49m\u001b[43m,\u001b[49m\n\u001b[0;32m   1883\u001b[0m \u001b[43m    \u001b[49m\u001b[43mencoding\u001b[49m\u001b[38;5;241;43m=\u001b[39;49m\u001b[38;5;28;43mself\u001b[39;49m\u001b[38;5;241;43m.\u001b[39;49m\u001b[43moptions\u001b[49m\u001b[38;5;241;43m.\u001b[39;49m\u001b[43mget\u001b[49m\u001b[43m(\u001b[49m\u001b[38;5;124;43m\"\u001b[39;49m\u001b[38;5;124;43mencoding\u001b[39;49m\u001b[38;5;124;43m\"\u001b[39;49m\u001b[43m,\u001b[49m\u001b[43m \u001b[49m\u001b[38;5;28;43;01mNone\u001b[39;49;00m\u001b[43m)\u001b[49m\u001b[43m,\u001b[49m\n\u001b[0;32m   1884\u001b[0m \u001b[43m    \u001b[49m\u001b[43mcompression\u001b[49m\u001b[38;5;241;43m=\u001b[39;49m\u001b[38;5;28;43mself\u001b[39;49m\u001b[38;5;241;43m.\u001b[39;49m\u001b[43moptions\u001b[49m\u001b[38;5;241;43m.\u001b[39;49m\u001b[43mget\u001b[49m\u001b[43m(\u001b[49m\u001b[38;5;124;43m\"\u001b[39;49m\u001b[38;5;124;43mcompression\u001b[39;49m\u001b[38;5;124;43m\"\u001b[39;49m\u001b[43m,\u001b[49m\u001b[43m \u001b[49m\u001b[38;5;28;43;01mNone\u001b[39;49;00m\u001b[43m)\u001b[49m\u001b[43m,\u001b[49m\n\u001b[0;32m   1885\u001b[0m \u001b[43m    \u001b[49m\u001b[43mmemory_map\u001b[49m\u001b[38;5;241;43m=\u001b[39;49m\u001b[38;5;28;43mself\u001b[39;49m\u001b[38;5;241;43m.\u001b[39;49m\u001b[43moptions\u001b[49m\u001b[38;5;241;43m.\u001b[39;49m\u001b[43mget\u001b[49m\u001b[43m(\u001b[49m\u001b[38;5;124;43m\"\u001b[39;49m\u001b[38;5;124;43mmemory_map\u001b[39;49m\u001b[38;5;124;43m\"\u001b[39;49m\u001b[43m,\u001b[49m\u001b[43m \u001b[49m\u001b[38;5;28;43;01mFalse\u001b[39;49;00m\u001b[43m)\u001b[49m\u001b[43m,\u001b[49m\n\u001b[0;32m   1886\u001b[0m \u001b[43m    \u001b[49m\u001b[43mis_text\u001b[49m\u001b[38;5;241;43m=\u001b[39;49m\u001b[43mis_text\u001b[49m\u001b[43m,\u001b[49m\n\u001b[0;32m   1887\u001b[0m \u001b[43m    \u001b[49m\u001b[43merrors\u001b[49m\u001b[38;5;241;43m=\u001b[39;49m\u001b[38;5;28;43mself\u001b[39;49m\u001b[38;5;241;43m.\u001b[39;49m\u001b[43moptions\u001b[49m\u001b[38;5;241;43m.\u001b[39;49m\u001b[43mget\u001b[49m\u001b[43m(\u001b[49m\u001b[38;5;124;43m\"\u001b[39;49m\u001b[38;5;124;43mencoding_errors\u001b[39;49m\u001b[38;5;124;43m\"\u001b[39;49m\u001b[43m,\u001b[49m\u001b[43m \u001b[49m\u001b[38;5;124;43m\"\u001b[39;49m\u001b[38;5;124;43mstrict\u001b[39;49m\u001b[38;5;124;43m\"\u001b[39;49m\u001b[43m)\u001b[49m\u001b[43m,\u001b[49m\n\u001b[0;32m   1888\u001b[0m \u001b[43m    \u001b[49m\u001b[43mstorage_options\u001b[49m\u001b[38;5;241;43m=\u001b[39;49m\u001b[38;5;28;43mself\u001b[39;49m\u001b[38;5;241;43m.\u001b[39;49m\u001b[43moptions\u001b[49m\u001b[38;5;241;43m.\u001b[39;49m\u001b[43mget\u001b[49m\u001b[43m(\u001b[49m\u001b[38;5;124;43m\"\u001b[39;49m\u001b[38;5;124;43mstorage_options\u001b[39;49m\u001b[38;5;124;43m\"\u001b[39;49m\u001b[43m,\u001b[49m\u001b[43m \u001b[49m\u001b[38;5;28;43;01mNone\u001b[39;49;00m\u001b[43m)\u001b[49m\u001b[43m,\u001b[49m\n\u001b[0;32m   1889\u001b[0m \u001b[43m\u001b[49m\u001b[43m)\u001b[49m\n\u001b[0;32m   1890\u001b[0m \u001b[38;5;28;01massert\u001b[39;00m \u001b[38;5;28mself\u001b[39m\u001b[38;5;241m.\u001b[39mhandles \u001b[38;5;129;01mis\u001b[39;00m \u001b[38;5;129;01mnot\u001b[39;00m \u001b[38;5;28;01mNone\u001b[39;00m\n\u001b[0;32m   1891\u001b[0m f \u001b[38;5;241m=\u001b[39m \u001b[38;5;28mself\u001b[39m\u001b[38;5;241m.\u001b[39mhandles\u001b[38;5;241m.\u001b[39mhandle\n",
      "File \u001b[1;32m~\\miniconda3\\envs\\m2\\lib\\site-packages\\pandas\\io\\common.py:873\u001b[0m, in \u001b[0;36mget_handle\u001b[1;34m(path_or_buf, mode, encoding, compression, memory_map, is_text, errors, storage_options)\u001b[0m\n\u001b[0;32m    868\u001b[0m \u001b[38;5;28;01melif\u001b[39;00m \u001b[38;5;28misinstance\u001b[39m(handle, \u001b[38;5;28mstr\u001b[39m):\n\u001b[0;32m    869\u001b[0m     \u001b[38;5;66;03m# Check whether the filename is to be opened in binary mode.\u001b[39;00m\n\u001b[0;32m    870\u001b[0m     \u001b[38;5;66;03m# Binary mode does not support 'encoding' and 'newline'.\u001b[39;00m\n\u001b[0;32m    871\u001b[0m     \u001b[38;5;28;01mif\u001b[39;00m ioargs\u001b[38;5;241m.\u001b[39mencoding \u001b[38;5;129;01mand\u001b[39;00m \u001b[38;5;124m\"\u001b[39m\u001b[38;5;124mb\u001b[39m\u001b[38;5;124m\"\u001b[39m \u001b[38;5;129;01mnot\u001b[39;00m \u001b[38;5;129;01min\u001b[39;00m ioargs\u001b[38;5;241m.\u001b[39mmode:\n\u001b[0;32m    872\u001b[0m         \u001b[38;5;66;03m# Encoding\u001b[39;00m\n\u001b[1;32m--> 873\u001b[0m         handle \u001b[38;5;241m=\u001b[39m \u001b[38;5;28;43mopen\u001b[39;49m\u001b[43m(\u001b[49m\n\u001b[0;32m    874\u001b[0m \u001b[43m            \u001b[49m\u001b[43mhandle\u001b[49m\u001b[43m,\u001b[49m\n\u001b[0;32m    875\u001b[0m \u001b[43m            \u001b[49m\u001b[43mioargs\u001b[49m\u001b[38;5;241;43m.\u001b[39;49m\u001b[43mmode\u001b[49m\u001b[43m,\u001b[49m\n\u001b[0;32m    876\u001b[0m \u001b[43m            \u001b[49m\u001b[43mencoding\u001b[49m\u001b[38;5;241;43m=\u001b[39;49m\u001b[43mioargs\u001b[49m\u001b[38;5;241;43m.\u001b[39;49m\u001b[43mencoding\u001b[49m\u001b[43m,\u001b[49m\n\u001b[0;32m    877\u001b[0m \u001b[43m            \u001b[49m\u001b[43merrors\u001b[49m\u001b[38;5;241;43m=\u001b[39;49m\u001b[43merrors\u001b[49m\u001b[43m,\u001b[49m\n\u001b[0;32m    878\u001b[0m \u001b[43m            \u001b[49m\u001b[43mnewline\u001b[49m\u001b[38;5;241;43m=\u001b[39;49m\u001b[38;5;124;43m\"\u001b[39;49m\u001b[38;5;124;43m\"\u001b[39;49m\u001b[43m,\u001b[49m\n\u001b[0;32m    879\u001b[0m \u001b[43m        \u001b[49m\u001b[43m)\u001b[49m\n\u001b[0;32m    880\u001b[0m     \u001b[38;5;28;01melse\u001b[39;00m:\n\u001b[0;32m    881\u001b[0m         \u001b[38;5;66;03m# Binary mode\u001b[39;00m\n\u001b[0;32m    882\u001b[0m         handle \u001b[38;5;241m=\u001b[39m \u001b[38;5;28mopen\u001b[39m(handle, ioargs\u001b[38;5;241m.\u001b[39mmode)\n",
      "\u001b[1;31mFileNotFoundError\u001b[0m: [Errno 2] No such file or directory: './datasets/state.csv'"
     ]
    }
   ],
   "source": [
    "state = pd.read_csv('./datasets/state.csv')\n",
    "state.sort_values(by='Murder.Rate').reset_index(drop=True)"
   ]
  },
  {
   "cell_type": "code",
   "execution_count": null,
   "id": "7ea4e948",
   "metadata": {},
   "outputs": [],
   "source": [
    "# Percentiles table (equal-count bins). Quartiles and Deciles are usually used.\n",
    "\n",
    "percentages = [0.05, 0.25, 0.5, 0.75, 0.95]\n",
    "percentiles = state['Murder.Rate'].quantile(percentages)\n",
    "df = pd.DataFrame(percentiles)\n",
    "df.index = [f'{int(p * 100)}%' for p in percentages]\n",
    "df.transpose()"
   ]
  },
  {
   "cell_type": "code",
   "execution_count": null,
   "id": "d06b210e",
   "metadata": {},
   "outputs": [],
   "source": [
    "# Boxplot (Matplotlib whiskers implementation = 1.5 IQR)\n",
    "\n",
    "data = state['Murder.Rate']\n",
    "ax = data.plot.box(figsize=(5, 8))\n",
    "ax.set_ylabel('Murder Rate per 100k')\n",
    "#ax.boxplot(data, whis=[0, 100])\n",
    "plt.tight_layout()\n",
    "plt.grid()\n",
    "plt.show()"
   ]
  },
  {
   "cell_type": "markdown",
   "id": "1894daf0",
   "metadata": {},
   "source": [
    "---\n",
    "\n",
    "#### Equal-size distributions"
   ]
  },
  {
   "cell_type": "code",
   "execution_count": null,
   "id": "ef9509d9",
   "metadata": {},
   "outputs": [],
   "source": [
    "# Frequency table (equal-size bins)\n",
    "\n",
    "binnedPopulation = pd.cut(state['Population'], 10)\n",
    "\n",
    "binnedPopulation.head()"
   ]
  },
  {
   "cell_type": "code",
   "execution_count": null,
   "id": "91dd45a1",
   "metadata": {},
   "outputs": [],
   "source": [
    "binnedPopulation.value_counts()"
   ]
  },
  {
   "cell_type": "code",
   "execution_count": null,
   "id": "b519926d",
   "metadata": {
    "scrolled": true
   },
   "outputs": [],
   "source": [
    "binnedPopulation.name = 'binnedPopulation'\n",
    "df = pd.concat([state, binnedPopulation], axis=1)\n",
    "df = df.sort_values(by='Population')\n",
    "df.head()"
   ]
  },
  {
   "cell_type": "code",
   "execution_count": null,
   "id": "27b7a22c",
   "metadata": {},
   "outputs": [],
   "source": [
    "groups = []\n",
    "for group, subset in df.groupby(by='binnedPopulation'):\n",
    "    groups.append({'BinRange': group,\n",
    "                   'Count': len(subset),\n",
    "                   'States': ','.join(subset.Abbreviation)})\n",
    "groups"
   ]
  },
  {
   "cell_type": "code",
   "execution_count": null,
   "id": "0b6c554a",
   "metadata": {},
   "outputs": [],
   "source": [
    "binrange = pd.DataFrame(groups)\n",
    "binrange"
   ]
  },
  {
   "cell_type": "markdown",
   "id": "1a9f6912",
   "metadata": {},
   "source": [
    "__IMPORTANT:__ too big bin size miss aspects of the distribution, while too small bin size can't give us the big picture."
   ]
  },
  {
   "cell_type": "code",
   "execution_count": null,
   "id": "1fe1014a",
   "metadata": {},
   "outputs": [],
   "source": [
    "# Histogram (or plotting the frequency table)\n",
    "\n",
    "#data = state['Population'] / 1_000_000\n",
    "data = state['Murder.Rate']\n",
    "ax = data.plot.hist(figsize=(12, 8))\n",
    "#ax.set_xlabel('Population (millions)')\n",
    "ax.set_xlabel('Murder Rate (per 100,000)')\n",
    "plt.tight_layout()"
   ]
  },
  {
   "cell_type": "code",
   "execution_count": null,
   "id": "b95346b6",
   "metadata": {},
   "outputs": [],
   "source": [
    "# Density plot calculated from data using a kernel density estimate implementation (area under the curve == 1)\n",
    "\n",
    "ax = data.plot.hist(density=True,\n",
    "                    #xlim=[0, 12], \n",
    "                    #bins=range(1,12),\n",
    "                    figsize=(12, 8))\n",
    "data.plot.density(ax=ax)\n",
    "#ax.set_xlabel('Population (millions)')\n",
    "ax.set_xlabel('Murder Rate (per 100,000)')\n",
    "plt.tight_layout()"
   ]
  },
  {
   "cell_type": "markdown",
   "id": "62dba4a6",
   "metadata": {},
   "source": [
    "---\n",
    "\n",
    "### Exploring Binary and Categorical Data\n",
    "\n",
    "Categorical data can be simply analyzed as counts or proportions of an all.\n",
    "\n",
    "- __Probability:__ Is an imaginary construction defined as the proportion of times an event will occur if the situation could be repeated over and over.\n",
    "\n",
    "- __Mode:__ The most commonly occurring category or value in a dataset.\n",
    "\n",
    "- __Bar charts:__ The frequency or proportion for each category plotted as bars.\n"
   ]
  },
  {
   "cell_type": "code",
   "execution_count": null,
   "id": "b2eafc21",
   "metadata": {},
   "outputs": [],
   "source": [
    "# Category proportions\n",
    "\n",
    "dfw = pd.read_csv('./datasets/dfw_airline.csv')\n",
    "dfw_proportions = 100 * dfw / dfw.values.sum()\n",
    "dfw_proportions"
   ]
  },
  {
   "cell_type": "code",
   "execution_count": null,
   "id": "73b92544",
   "metadata": {},
   "outputs": [],
   "source": [
    "# Bar charts can be understand it as not ordered (arbitrary) bins.\n",
    "\n",
    "ax = dfw.transpose().plot.bar(figsize=(12, 8), legend=False)\n",
    "ax.set_xlabel('Cause of delay')\n",
    "ax.set_ylabel('Count')\n",
    "\n",
    "plt.tight_layout()\n",
    "plt.show()"
   ]
  },
  {
   "cell_type": "code",
   "execution_count": null,
   "id": "0a27b92c",
   "metadata": {},
   "outputs": [],
   "source": [
    "# Mode \n",
    "\n",
    "df_athletes = pd.read_excel('./datasets/Athletes.xlsx')\n",
    "print('Athletes mode:', df_athletes['NOC'].mode()[0])\n",
    "\n",
    "df_coaches = pd.read_excel('./datasets/Coaches.xlsx')\n",
    "print('Coaches mode:', df_coaches['NOC'].mode()[0])"
   ]
  },
  {
   "cell_type": "markdown",
   "id": "97a97eef",
   "metadata": {},
   "source": [
    "---\n",
    "\n",
    "### Correlation (bivariate analysis)\n",
    "\n",
    "Includes the correlation among features (predictors) and between features and a target variable (numeric vs. numeric).\n",
    "\n",
    "- __Correlation coefficient:__ A metric that measures the extent to which numeric variables are asociated with one and other (range from -1 to +1). The most commonly used is _Pearson's correlation coefficient_.\n",
    "\n",
    "- __Correlation matrix:__ A table where the variables are shown on both rows and columns, and the cell values are the correlations between the variables.\n",
    "\n",
    "- __Scatterplot:__ A plot in which the x-axis is the value of one variable, and the y-axis the value of another.\n"
   ]
  },
  {
   "cell_type": "code",
   "execution_count": null,
   "id": "b5f48c97",
   "metadata": {},
   "outputs": [],
   "source": [
    "sp500_sym = pd.read_csv('./datasets/sp500_sectors.csv')\n",
    "sp500_px = pd.read_csv('./datasets/sp500_data.csv', index_col=0)"
   ]
  },
  {
   "cell_type": "code",
   "execution_count": null,
   "id": "88f2a909",
   "metadata": {},
   "outputs": [],
   "source": [
    "telecomSymbols = sp500_sym[sp500_sym['sector'] == 'telecommunications_services']['symbol']\n",
    "telecom = sp500_px.loc[sp500_px.index >= '2012-07-01', telecomSymbols]\n",
    "print(telecom.shape)\n",
    "telecom.head()"
   ]
  },
  {
   "cell_type": "code",
   "execution_count": null,
   "id": "a5dd6027",
   "metadata": {},
   "outputs": [],
   "source": [
    "# Correlation matrix => https://pandas.pydata.org/docs/reference/api/pandas.DataFrame.corr.html\n",
    "\n",
    "telecom.corr()"
   ]
  },
  {
   "cell_type": "code",
   "execution_count": null,
   "id": "ff1a4c8d",
   "metadata": {},
   "outputs": [],
   "source": [
    "etfs = sp500_px.loc[sp500_px.index > '2012-07-01', sp500_sym[sp500_sym['sector'] == 'etf']['symbol']]\n",
    "print(etfs.shape)\n",
    "etfs.head()"
   ]
  },
  {
   "cell_type": "code",
   "execution_count": null,
   "id": "31a9ff02",
   "metadata": {},
   "outputs": [],
   "source": [
    "# Correlation matrix heatmap => https://seaborn.pydata.org/generated/seaborn.heatmap.html\n",
    "\n",
    "fig, ax = plt.subplots(figsize=(10, 10))\n",
    "ax = sns.heatmap(etfs.corr(),\n",
    "                 vmin=-1,\n",
    "                 vmax=1,\n",
    "                 cmap=sns.diverging_palette(20, 220, as_cmap=True),\n",
    "                 # https://seaborn.pydata.org/generated/seaborn.diverging_palette.html\n",
    "                 ax=ax)\n",
    "plt.tight_layout()"
   ]
  },
  {
   "cell_type": "code",
   "execution_count": null,
   "id": "0c601835",
   "metadata": {},
   "outputs": [],
   "source": [
    "# Scatterplots (dominant quadrants give correlation info)\n",
    "\n",
    "ax = telecom.plot.scatter(x='T',\n",
    "                          y='VZ',\n",
    "                          figsize=(10, 10),\n",
    "                          marker='$\\u25EF$',\n",
    "                          alpha=1)\n",
    "ax.set_xlabel('ATT (T)')\n",
    "ax.set_ylabel('Verizon (VZ)')\n",
    "ax.axhline(0, color='grey', lw=1)\n",
    "ax.axvline(0, color='grey', lw=1)\n",
    "plt.xlim([-2, 2])\n",
    "plt.ylim([-2, 2])\n",
    "plt.tight_layout()"
   ]
  },
  {
   "cell_type": "markdown",
   "id": "5d44f129",
   "metadata": {},
   "source": [
    "---\n",
    "\n",
    "### Exploring Two or More Variables (Multivariate analysis)\n",
    "\n",
    "Estimates and plots involving two or more than two features.\n",
    "\n",
    "__Exploring two variables:__\n",
    "\n",
    "- __Hexagonal binning:__ A plot of two numeric variables with the records binned into hexagons.\n",
    "\n",
    "- __Contour plot:__ A plot showing the density of two numeric variables like a topographical map.\n",
    "\n",
    "- __Contingency table:__ A tally of counts between two or more categorical variables.\n",
    "\n",
    "__Exploring more than two variables:__\n",
    "\n",
    "- __Conditioning:__ The type of charts used to compare two variables are readily extendended to more variables through the notion of conditioning (i.e.: using a conditioning variable).\n"
   ]
  },
  {
   "cell_type": "code",
   "execution_count": null,
   "id": "05b94a0f",
   "metadata": {},
   "outputs": [],
   "source": [
    "kc_tax = pd.read_csv('./datasets/kc_tax.csv')\n",
    "kc_tax0 = kc_tax.loc[(kc_tax.TaxAssessedValue < 750000) & \n",
    "                     (kc_tax.SqFtTotLiving > 100) &\n",
    "                     (kc_tax.SqFtTotLiving < 3500), :]\n",
    "kc_tax0.shape"
   ]
  },
  {
   "cell_type": "code",
   "execution_count": null,
   "id": "01840c39",
   "metadata": {},
   "outputs": [],
   "source": [
    "# Hexagonal bining plot\n",
    "\n",
    "ax = kc_tax0.plot.hexbin(x='SqFtTotLiving',\n",
    "                         y='TaxAssessedValue',\n",
    "                         gridsize=30,\n",
    "                         sharex=False,     \n",
    "                         figsize=(10, 8))\n",
    "ax.set_xlabel('Finished Square Feet')\n",
    "ax.set_ylabel('Tax Assessed Value')\n",
    "plt.tight_layout()"
   ]
  },
  {
   "cell_type": "code",
   "execution_count": null,
   "id": "7c9cf257",
   "metadata": {},
   "outputs": [],
   "source": [
    "# Contour plot\n",
    "\n",
    "fig, ax = plt.subplots(figsize=(10, 10))\n",
    "sns.kdeplot(data=kc_tax0.sample(10000),\n",
    "            x='SqFtTotLiving',\n",
    "            y='TaxAssessedValue',\n",
    "            ax=ax,\n",
    "            cmap=\"Reds\")\n",
    "kc_tax0.sample(10000).plot.scatter(x='SqFtTotLiving',\n",
    "                                   y='TaxAssessedValue',\n",
    "                                   marker='$\\u25EF$',\n",
    "                                   alpha=0.1,\n",
    "                                   ax=ax)\n",
    "ax.set_xlabel('Finished Square Feet')\n",
    "ax.set_ylabel('Tax Assessed Value')\n",
    "plt.tight_layout()"
   ]
  },
  {
   "cell_type": "code",
   "execution_count": null,
   "id": "fdabaa8d",
   "metadata": {},
   "outputs": [],
   "source": [
    "lc_loans = pd.read_csv('./datasets/lc_loans.csv')\n",
    "lc_loans"
   ]
  },
  {
   "cell_type": "code",
   "execution_count": null,
   "id": "af4b1db1",
   "metadata": {},
   "outputs": [],
   "source": [
    "# Contingency table\n",
    "\n",
    "crosstab = lc_loans.pivot_table(index=['grade'],columns=['status'],aggfunc=lambda x: len(x),margins=True)\n",
    "crosstab"
   ]
  },
  {
   "cell_type": "code",
   "execution_count": null,
   "id": "a9dec524",
   "metadata": {},
   "outputs": [],
   "source": [
    "# Contingency table (percentages)\n",
    "\n",
    "perc_crosstab = crosstab.copy().loc['A':'G',:]\n",
    "perc_crosstab.loc[:,'Charged Off':'Late'] = perc_crosstab.loc[:,'Charged Off':'Late'].div(perc_crosstab['All'], axis=0)\n",
    "perc_crosstab['All'] = perc_crosstab['All'] / sum(perc_crosstab['All'])\n",
    "perc_crosstab"
   ]
  },
  {
   "cell_type": "code",
   "execution_count": null,
   "id": "0832af08",
   "metadata": {},
   "outputs": [],
   "source": [
    "airline_stats = pd.read_csv('./datasets/airline_stats.csv').sort_values(by='airline').reset_index(drop=True)\n",
    "airline_stats"
   ]
  },
  {
   "cell_type": "code",
   "execution_count": null,
   "id": "869586cd",
   "metadata": {},
   "outputs": [],
   "source": [
    "airline_stats['airline'].value_counts()"
   ]
  },
  {
   "cell_type": "code",
   "execution_count": null,
   "id": "c24a8ace",
   "metadata": {},
   "outputs": [],
   "source": [
    "# Categorical and numeric data (Boxplots)\n",
    "\n",
    "ax = airline_stats.boxplot(by='airline',\n",
    "                           column='pct_carrier_delay',\n",
    "                           figsize=(12, 8))\n",
    "ax.set_xlabel('')\n",
    "ax.set_ylabel('Daily % of Delayed Flights')\n",
    "plt.suptitle('')\n",
    "plt.tight_layout()"
   ]
  },
  {
   "cell_type": "code",
   "execution_count": null,
   "id": "2bfa2fee",
   "metadata": {},
   "outputs": [],
   "source": [
    "# Categorical and numeric data (Violinplot) => https://seaborn.pydata.org/generated/seaborn.violinplot.html\n",
    "\n",
    "fig, ax = plt.subplots(figsize=(12, 8))\n",
    "sns.violinplot(data=airline_stats,\n",
    "               x='airline',\n",
    "               y='pct_carrier_delay',\n",
    "               ax=ax,\n",
    "               inner='quartile',\n",
    "               color='white')\n",
    "ax.set_xlabel('')\n",
    "ax.set_ylabel('Daily % of Delayed Flights')\n",
    "plt.tight_layout()"
   ]
  },
  {
   "cell_type": "code",
   "execution_count": null,
   "id": "75c00338",
   "metadata": {},
   "outputs": [],
   "source": [
    "# Using a conditioning variable\n",
    "\n",
    "zip_codes = [98188, 98105, 98108, 98126]\n",
    "kc_tax_zip = kc_tax0.loc[kc_tax0['ZipCode'].isin(zip_codes),:]\n",
    "kc_tax_zip"
   ]
  },
  {
   "cell_type": "code",
   "execution_count": null,
   "id": "c48abfaa",
   "metadata": {},
   "outputs": [],
   "source": [
    "# Conditioning hexagonal bining plot\n",
    "\n",
    "def hexbin(x, y, color, **kwargs):\n",
    "    cmap = sns.light_palette(color, as_cmap=True)\n",
    "    plt.hexbin(x, y, gridsize=30, cmap=cmap, **kwargs)\n",
    "    \n",
    "# https://seaborn.pydata.org/generated/seaborn.FacetGrid.html\n",
    "g = sns.FacetGrid(kc_tax_zip, col='ZipCode', col_wrap=2, height=4)\n",
    "# https://seaborn.pydata.org/generated/seaborn.FacetGrid.map.html\n",
    "g.map(hexbin,'SqFtTotLiving','TaxAssessedValue',extent=[0, 3500, 0, 700000])\n",
    "g.set_axis_labels('Finished Square Feet', 'Tax Assessed Value')\n",
    "g.set_titles('Zip code {col_name:.0f}')\n",
    "plt.tight_layout()"
   ]
  },
  {
   "cell_type": "markdown",
   "id": "a9496114",
   "metadata": {},
   "source": [
    "---"
   ]
  }
 ],
 "metadata": {
  "kernelspec": {
   "display_name": "Python3(m2)",
   "language": "python",
   "name": "m2"
  },
  "language_info": {
   "codemirror_mode": {
    "name": "ipython",
    "version": 3
   },
   "file_extension": ".py",
   "mimetype": "text/x-python",
   "name": "python",
   "nbconvert_exporter": "python",
   "pygments_lexer": "ipython3",
   "version": "3.10.14"
  }
 },
 "nbformat": 4,
 "nbformat_minor": 5
}
